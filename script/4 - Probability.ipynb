{
 "cells": [
  {
   "cell_type": "markdown",
   "id": "01c590b7-83ed-4a36-a8e0-f8f5e68ec022",
   "metadata": {},
   "source": [
    "# Probability"
   ]
  },
  {
   "cell_type": "markdown",
   "id": "2161aec9-7aba-4831-a7e2-41b0efed2227",
   "metadata": {
    "tags": []
   },
   "source": [
    "# Importing useful libraries"
   ]
  },
  {
   "cell_type": "code",
   "execution_count": 1,
   "id": "284affca-d0c6-4c31-8b0b-9aa61be9fee4",
   "metadata": {},
   "outputs": [],
   "source": [
    "# Importing the pandas library for data manipulation\n",
    "import pandas as pd\n",
    "\n",
    "# Import numpy library for efficient numeric operations\n",
    "import numpy as np\n",
    "\n",
    "# Imports the matplotlib.pyplot library to create graphical visualizations.\n",
    "import matplotlib.pyplot as plt"
   ]
  },
  {
   "cell_type": "markdown",
   "id": "fab63382-94f4-4d48-b2b5-726ef72780d5",
   "metadata": {
    "tags": []
   },
   "source": [
    "# Importing the data used"
   ]
  },
  {
   "cell_type": "code",
   "execution_count": 2,
   "id": "bf08c043-00d3-4570-88a3-d29e62845965",
   "metadata": {},
   "outputs": [],
   "source": [
    "df = pd.read_excel('dados_cancerpositivo.xlsx', index_col = 'Número')"
   ]
  },
  {
   "cell_type": "markdown",
   "id": "7ad349b5-2431-41fe-8e43-d52168913785",
   "metadata": {},
   "source": [
    "# Defining the functions used to calculate probability"
   ]
  },
  {
   "cell_type": "code",
   "execution_count": 3,
   "id": "a938d613-d005-4a87-a099-d45ea65ab26c",
   "metadata": {},
   "outputs": [],
   "source": [
    "''' General probability calculation '''\n",
    "\n",
    "def probabilidade(valor_1, valor_2, valor_3, valor_4):\n",
    "    # Separating patients who are positive for the desired parameters\n",
    "    pergunta = df.loc[(valor_1) & (valor_2)] # more restrictive\n",
    "    # Ensuring that in this selection, all patients have information about the desired parameter\n",
    "    pergunta.dropna(subset=[valor_3], inplace=True)\n",
    "    total = len(df.loc[(valor_1) & (valor_2)])\n",
    "    # Separating the patients who have information for the criteria\n",
    "    parametro_pergunta = len(pergunta.loc[pergunta[valor_3]==valor_4])\n",
    "    # Calculating the probability\n",
    "    probabilidade = round(parametro_pergunta/total * 100, 2)\n",
    "    \n",
    "    return '{}%'.format(probabilidade)"
   ]
  },
  {
   "cell_type": "code",
   "execution_count": 4,
   "id": "3649d7ca-1ddd-457b-86e3-4dca1602d997",
   "metadata": {},
   "outputs": [],
   "source": [
    "''' Calculation for probability in lymph nodes'''\n",
    "\n",
    "def probabilidade_linf(valor_1, valor_2, valor_3):\n",
    "    # Separating patients who are positive for the desired parameters\n",
    "    pergunta = (df.loc[(valor_1) & (valor_2)]) # more restrictive\n",
    "    # Ensuring that in this selection, all patients have information about the desired parameter\n",
    "    pergunta.dropna(subset=[valor_3], inplace=True)\n",
    "    total = len(df.loc[(valor_1) & (valor_2)])\n",
    "    # Separating the patients who have information for the criteria\n",
    "    parametro_pergunta = len(pergunta.loc[pergunta[valor_3]>= 1.0])\n",
    "    # Calculating the probability\n",
    "    probabilidade = round(parametro_pergunta/total * 100, 2)\n",
    "    \n",
    "    return '{}%'.format(probabilidade)"
   ]
  },
  {
   "cell_type": "markdown",
   "id": "d133e29e-e01d-4265-b97b-d88ef7011d07",
   "metadata": {},
   "source": [
    "# Calculating the odds"
   ]
  },
  {
   "cell_type": "markdown",
   "id": "eadf37d0-ebf1-47fc-9dae-72f21dae9434",
   "metadata": {},
   "source": [
    "## Menopausal status"
   ]
  },
  {
   "cell_type": "markdown",
   "id": "b3b3b0dd-b16a-4c07-b532-1597435b28ca",
   "metadata": {},
   "source": [
    "What is the probability of patients exposed to pesticides going through menopause?"
   ]
  },
  {
   "cell_type": "code",
   "execution_count": 7,
   "id": "6580bb92-b300-4fa1-bc39-6cf3933e231f",
   "metadata": {},
   "outputs": [
    {
     "name": "stdout",
     "output_type": "stream",
     "text": [
      "The probability is 62.5%\n"
     ]
    }
   ],
   "source": [
    "menopausa = probabilidade(df['Exposure to pesticides']==1, df['Exposure to pesticides']==1, 'Menopausal status', 1)\n",
    "print('The probability is', menopausa)"
   ]
  },
  {
   "cell_type": "markdown",
   "id": "395e7ecf-9a22-4e8c-bffb-58235a02539f",
   "metadata": {},
   "source": [
    "What is the probability of patients not exposed to pesticides going through menopause?"
   ]
  },
  {
   "cell_type": "code",
   "execution_count": 8,
   "id": "2b2b095b-8188-4c26-9041-3d1616f25f78",
   "metadata": {},
   "outputs": [
    {
     "name": "stdout",
     "output_type": "stream",
     "text": [
      "The probability is 63.12%\n"
     ]
    }
   ],
   "source": [
    "menopausa_n = probabilidade(df['Exposure to pesticides']==0, df['Exposure to pesticides']==0, 'Menopausal status', 1)\n",
    "print('The probability is', menopausa_n)"
   ]
  },
  {
   "cell_type": "markdown",
   "id": "eda76326-079d-4a9e-8fa2-9acc1282f060",
   "metadata": {},
   "source": [
    "## Metastasis"
   ]
  },
  {
   "cell_type": "markdown",
   "id": "b087fc37-a572-4a45-92da-10793447690b",
   "metadata": {},
   "source": [
    "What is the probability of patients exposed to pesticides to develop metastasis?"
   ]
  },
  {
   "cell_type": "code",
   "execution_count": 9,
   "id": "fba5ee8e-e265-4e2f-8d24-7116f6e188dd",
   "metadata": {},
   "outputs": [
    {
     "name": "stdout",
     "output_type": "stream",
     "text": [
      "The probability is 37.02%\n"
     ]
    }
   ],
   "source": [
    "metastase = probabilidade(df['Exposure to pesticides']==1, df['Exposure to pesticides']==1, 'Distant metastasis', 1)\n",
    "print('The probability is', metastase)"
   ]
  },
  {
   "cell_type": "markdown",
   "id": "c6f1aaaf-ec98-46cd-8d67-8e56318cf738",
   "metadata": {},
   "source": [
    "What is the probability of patients not exposed to pesticides to develop metastasis?"
   ]
  },
  {
   "cell_type": "code",
   "execution_count": 10,
   "id": "e62e076c-e844-4be5-adfc-fae7b4f14952",
   "metadata": {},
   "outputs": [
    {
     "name": "stdout",
     "output_type": "stream",
     "text": [
      "The probability is 26.24%\n"
     ]
    }
   ],
   "source": [
    "metastase_n = probabilidade(df['Exposure to pesticides']==0, df['Exposure to pesticides']==0, 'Distant metastasis', 1)\n",
    "print('The probability is', metastase_n)"
   ]
  },
  {
   "cell_type": "markdown",
   "id": "3abc2834-e20c-4815-8897-8832644fb57e",
   "metadata": {},
   "source": [
    "## Lymph node positivity"
   ]
  },
  {
   "cell_type": "markdown",
   "id": "39ae74e8-a8a4-4d3d-b328-3903e8dd1c74",
   "metadata": {},
   "source": [
    "What is the probability of patients exposed to pesticides to develop lymph node positivity?"
   ]
  },
  {
   "cell_type": "code",
   "execution_count": 11,
   "id": "64031b8e-1cdf-4a9e-bf86-687c5cf6e00c",
   "metadata": {},
   "outputs": [
    {
     "name": "stdout",
     "output_type": "stream",
     "text": [
      "The probability is 33.17%\n"
     ]
    }
   ],
   "source": [
    "linfo = probabilidade_linf(df['Exposure to pesticides']==1, df['Exposure to pesticides']==1, 'Lymph node')\n",
    "print('The probability is', linfo)"
   ]
  },
  {
   "cell_type": "markdown",
   "id": "6347c846-6ce5-4ea8-87e9-c6190bd965c2",
   "metadata": {},
   "source": [
    "What is the probability of patients not exposed to pesticides to develop lymph node positivity?"
   ]
  },
  {
   "cell_type": "code",
   "execution_count": 12,
   "id": "2aad49c3-51a0-4396-9aae-ae9f5bab0616",
   "metadata": {},
   "outputs": [
    {
     "name": "stdout",
     "output_type": "stream",
     "text": [
      "The probability is 24.11%\n"
     ]
    }
   ],
   "source": [
    "linfo_n = probabilidade_linf(df['Exposure to pesticides']==0, df['Exposure to pesticides']==0, 'Lymph node')\n",
    "print('The probability is', linfo_n)"
   ]
  },
  {
   "cell_type": "markdown",
   "id": "6b489d75-1666-47a0-86a6-98d6c2efdb61",
   "metadata": {},
   "source": [
    "## Angiolymphatic emboli"
   ]
  },
  {
   "cell_type": "markdown",
   "id": "a7921c89-b0ee-4890-9d1d-143e59595587",
   "metadata": {},
   "source": [
    "What is the probability of patients exposed to pesticides to develop angiolymphatic emboli?"
   ]
  },
  {
   "cell_type": "code",
   "execution_count": 13,
   "id": "fc6fafea-fcf5-4b81-bb01-156a61172e92",
   "metadata": {},
   "outputs": [
    {
     "name": "stdout",
     "output_type": "stream",
     "text": [
      "The probability is 25.0%\n"
     ]
    }
   ],
   "source": [
    "emb = probabilidade(df['Exposure to pesticides']==1, df['Exposure to pesticides']==1, 'Angiolymphatic emboli', 1)\n",
    "print('The probability is', emb)"
   ]
  },
  {
   "cell_type": "markdown",
   "id": "2f6e793e-3efc-4ca4-894e-0a14903288a5",
   "metadata": {},
   "source": [
    "What is the probability of patients not exposed to pesticides to develop angiolymphatic emboli?"
   ]
  },
  {
   "cell_type": "code",
   "execution_count": 14,
   "id": "c441b0a9-176c-4425-b8d8-3b25c3397dc0",
   "metadata": {},
   "outputs": [
    {
     "name": "stdout",
     "output_type": "stream",
     "text": [
      "The probability is 22.7%\n"
     ]
    }
   ],
   "source": [
    "emb_n = probabilidade(df['Exposure to pesticides']==0, df['Exposure to pesticides']==0, 'Angiolymphatic emboli', 1)\n",
    "print('The probability is', emb_n)"
   ]
  },
  {
   "cell_type": "markdown",
   "id": "e3a6d25f-f893-4ba2-88ce-4c807a583d96",
   "metadata": {},
   "source": [
    "## Chemoresistance"
   ]
  },
  {
   "cell_type": "markdown",
   "id": "f09c91f1-46a7-4d7f-89ab-f0c8d8659ae1",
   "metadata": {},
   "source": [
    "What is the probability of patients exposed to pesticides to show chemoresistance to treatment?"
   ]
  },
  {
   "cell_type": "code",
   "execution_count": 15,
   "id": "47b8fff3-0435-4875-b10f-41037da456e5",
   "metadata": {},
   "outputs": [
    {
     "name": "stdout",
     "output_type": "stream",
     "text": [
      "The probability is 21.15%\n"
     ]
    }
   ],
   "source": [
    "quimio = probabilidade(df['Exposure to pesticides']==1, df['Exposure to pesticides']==1, 'Chemoresistance', 1)\n",
    "print('The probability is', quimio)"
   ]
  },
  {
   "cell_type": "markdown",
   "id": "69098a1c-1c06-4a55-acd7-38dad941e5fc",
   "metadata": {},
   "source": [
    "What is the probability of patients not exposed to pesticides to show chemoresistance to treatment?"
   ]
  },
  {
   "cell_type": "code",
   "execution_count": 16,
   "id": "4354f3eb-51ba-4777-b0db-ff0c5f8b71fa",
   "metadata": {},
   "outputs": [
    {
     "name": "stdout",
     "output_type": "stream",
     "text": [
      "The probability is 17.02%\n"
     ]
    }
   ],
   "source": [
    "quimio_n = probabilidade(df['Exposure to pesticides']==0, df['Exposure to pesticides']==0, 'Chemoresistance', 1)\n",
    "print('The probability is', quimio_n)"
   ]
  },
  {
   "cell_type": "markdown",
   "id": "2d071922-56fc-467c-9b6d-e5741741002d",
   "metadata": {},
   "source": [
    "# Plotting graph with probabilities"
   ]
  },
  {
   "cell_type": "code",
   "execution_count": 17,
   "id": "d1ed4fd7-250f-4907-9f03-ec9989ec7f98",
   "metadata": {},
   "outputs": [],
   "source": [
    "# Instantiating the probabilities of patients exposed and not exposed to pesticides in a list\n",
    "prob_exp = [menopausa, metastase, linfo, emb, quimio]\n",
    "prob_nao_exp = [menopausa_n, metastase_n, linfo_n, emb_n, quimio_n]"
   ]
  },
  {
   "cell_type": "code",
   "execution_count": 18,
   "id": "3253850b-d025-40ce-af5a-7491e6560426",
   "metadata": {},
   "outputs": [
    {
     "data": {
      "image/png": "[encoded data removed]",
      "text/plain": [
       "<Figure size 640x480 with 1 Axes>"
      ]
     },
     "metadata": {},
     "output_type": "display_data"
    }
   ],
   "source": [
    "parametros = ['Menopausal status', 'Metastasis', 'Lymph node positivity', 'Angiolymphatic emboli', 'Chemoresistance']\n",
    "frequencia_nao_exp = prob_nao_exp\n",
    "frequencia_exp = prob_exp\n",
    "\n",
    "# Convert string frequencies to numbers\n",
    "frequencia_nao_exp_numeros = [float(valor.strip('%')) for valor in frequencia_nao_exp]\n",
    "frequencia_exp_numeros = [float(valor.strip('%')) for valor in frequencia_exp]\n",
    "\n",
    "# Setting the y-axis range based on values\n",
    "y_min = min(frequencia_nao_exp_numeros + frequencia_exp_numeros)\n",
    "y_max = max(frequencia_nao_exp_numeros + frequencia_exp_numeros)\n",
    "y_min = max(0, y_min - 5)\n",
    "y_max = y_max + 5\n",
    "\n",
    "# Defining the width of the bars and adjusting their position\n",
    "largura_barra = 0.35\n",
    "x = np.arange(len(parametros))\n",
    "\n",
    "# Customizing the bar colors\n",
    "cor_claro = '0.7'  # light gray\n",
    "cor_escuro = '0.3' # darker gray\n",
    "\n",
    "# Defining the position of the bars side by side\n",
    "x_nao_exp = x - largura_barra/2\n",
    "x_exp = x + largura_barra/2\n",
    "\n",
    "barra1 = plt.bar(x_nao_exp, frequencia_nao_exp_numeros, largura_barra, label='Unexposed to pesticides', color=cor_claro)\n",
    "barra2 = plt.bar(x_exp, frequencia_exp_numeros, largura_barra, label='Exposed to pesticides', color=cor_escuro)\n",
    "\n",
    "# Adding labels to axes\n",
    "plt.xlabel('Parameters')\n",
    "plt.ylabel('Probability (%)')\n",
    "\n",
    "# Setting the y-axis range\n",
    "plt.ylim(y_min, y_max)\n",
    "\n",
    "# List of custom line break strings for each parameter\n",
    "parametros_quebrados = [\n",
    "    'Menopausal\\n status',\n",
    "    'Metastasis',\n",
    "    'Lymph node\\n positivity',\n",
    "    'Angiolymphatic\\n emboli',\n",
    "    'Chemoresistance'\n",
    "]\n",
    "\n",
    "# Display parameter values below bars (with custom line wrapping)\n",
    "plt.xticks(x, parametros_quebrados, rotation=45)\n",
    "\n",
    "# Adding a caption\n",
    "plt.legend()\n",
    "\n",
    "# Displaying the graph\n",
    "plt.show()"
   ]
  },
  {
   "cell_type": "code",
   "execution_count": null,
   "id": "8ba1cf84-55a2-41db-a63b-bfa21a29091b",
   "metadata": {},
   "outputs": [],
   "source": []
  }
 ],
 "metadata": {
  "kernelspec": {
   "display_name": "Python 3 (ipykernel)",
   "language": "python",
   "name": "python3"
  },
  "language_info": {
   "codemirror_mode": {
    "name": "ipython",
    "version": 3
   },
   "file_extension": ".py",
   "mimetype": "text/x-python",
   "name": "python",
   "nbconvert_exporter": "python",
   "pygments_lexer": "ipython3",
   "version": "3.7.9"
  }
 },
 "nbformat": 4,
 "nbformat_minor": 5
}
