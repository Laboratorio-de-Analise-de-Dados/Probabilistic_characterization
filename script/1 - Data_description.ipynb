{
 "cells": [
  {
   "cell_type": "markdown",
   "id": "d68aa577-ff6c-47b5-ae67-f381b59e4397",
   "metadata": {
    "tags": []
   },
   "source": [
    "# <font color= blue> Raw Data Collection"
   ]
  },
  {
   "cell_type": "markdown",
   "id": "ba1799f0-8701-4663-98c8-7bc59090f384",
   "metadata": {},
   "source": [
    "- The main purpose of this work is to apply the theoretical framework developed by the Stockholm Paradigm to analyse and rank a sampled group of Influenza H1N1 strains according to their emergence risk in human populations. In order to do that we then developed a method to standardize the raw data collection, processing and analysis, which will be succintly described here. It is important to, first, describe the raw data sampling, organization, and processing, before anything else.\n",
    "\n",
    "- The Stockholm Paradigm lengthly discusses the evolutionary processes involved in the (re)emergence of new symbiont interactions, being Influenza-human symbiosis a possible study object to this coevolutionary framework. It can be generally summarized in three essencial biological processes: Ecological Fitting, which discourses on the populational, inter-species adjustment that preceds and enables new symbiosis; Oscillation Hypothesis, which describes the cophylogenetic evolution of host and parasite lineages; and Taxon Pulse, which approaches the phylogenetic-ecological circunstances involved in the maintenance and evolution of symbiont interactions, or the coevolution in the face of ecological (spatio-temporal) change.\n",
    "\n",
    "- This work relies heavily on the assumptions of ecological fitting, where _capacity_ and _opportunity_ conditions precede _and_ enable the emergence of a new symbiont interactions. The idea here is to describe, as much as the available data lets us, the capacity different Influenza H1N1 strains - human, non-human mammalian, or avian - have to establish itself in human populations, coupled with the current ecological circunstances to do so. By analysing both capacity and opportunity, we expect to be able to visualize, and hierarchize, the sampled strains according to their emergence risk in humans, contributing to emerging infectious diseases preparedness. \n",
    "\n",
    "- In order to approach our objective, we begin by sampling the data available in the different public Influenza Databases. By the end of the data sampling period, we collected all the data used in this work in two main platforms:"
   ]
  },
  {
   "cell_type": "markdown",
   "id": "98af43d7-28fa-4f88-b477-002c39193f53",
   "metadata": {},
   "source": [
    "> ## <font color=blue> Influenza Research Database (IRD)"
   ]
  },
  {
   "cell_type": "markdown",
   "id": "13d6f776-0cc9-4148-889e-11bd919e99b2",
   "metadata": {},
   "source": [
    ">>    This database is the largest Influenza dataset we could find. In te beginning of this work it was and independent database, organized and financed by NIH, but during the development of this research it was modifed and incorporated into the BACTERIAL AND VIRAL BIOINFORMATICS RESOURCE CENTER . 3.30.19, a now larger database that inclues all bacterial and viral research databases, as well as archeas and its eukariotic hosts. The current database version can be accessed at [BV-BRC](https://www.bv-brc.org/). \n",
    ">>\n",
    ">>    From this database we collected most of the data we utilized. Those that describe _viral capacity to utilize their host_ will be herein described as (1) Strain Table; (2) Genome Table and (3) Epitope Table and (4) Substitutions Table - or known genomic substitutions that are associated with capacity alterations, such as transmission capacity, replication change, infectivity in host, antiviral resistance, among other specifications. Opportunity will be described by the (4) Surveillance Table, which includes variables that describe the ecological context of different H1N1 strains."
   ]
  },
  {
   "cell_type": "markdown",
   "id": "79263194-94fe-492e-854a-92ffba21ad1f",
   "metadata": {},
   "source": [
    "> ## <font color=blue> FluPrint Database (FluPrint)"
   ]
  },
  {
   "cell_type": "markdown",
   "id": "c28fa2e5-ffe3-4f45-bcdc-aa2f92f30398",
   "metadata": {},
   "source": [
    ">>     Since one of our objective was to also characterize Influenza's capacity according to the immunological inprint it leaves in the human host, we decided to explore the immunological data this dataset provides for the recently analysed in eight clinical studies conducted between 2007 to 2015 at the Human Immune Monitoring Center of Stanford University. This database accumulates several immunological cell population characterization and quantification in order to systematically describe the immunological pattern different Influenza vaccines (and strains) induce on the human system. \n",
    ">>\n",
    ">>     We decided to utilize the H1N1 strain data present in this dataset, but as supplementary variables in our statistical analysis, since our main data source (IRD) did not contain the specific H1N1 strain that was used in the Fluzode of 2009. The dataset can be accessed here: [FluPrint](https://fluprint.com/#/about)."
   ]
  },
  {
   "cell_type": "markdown",
   "id": "7b8e9e05-f9cc-4629-b880-aef5cb5f3733",
   "metadata": {},
   "source": [
    "## <font color=blue> Raw Datasets"
   ]
  },
  {
   "cell_type": "markdown",
   "id": "b692957c-2b7a-4e53-abda-493ed3cac763",
   "metadata": {},
   "source": [
    "> ### <font color=blue> Strain Table"
   ]
  },
  {
   "cell_type": "markdown",
   "id": "ef6f57f8-40e3-4e92-b91a-bb60552714c0",
   "metadata": {},
   "source": [
    "The raw version of this data was obtained in January 2023 through this link [Raw Strain Data IRD] (). The downloaded version of the Influenza A H1N1 strain information gathered in the BV-BRC database was comprised of 18,045 rows and 21 columns after we manually deleted all unnecessary variables (originally it had 37 columns). The full raw dataset is summarized in the following table."
   ]
  },
  {
   "cell_type": "markdown",
   "id": "cc48722f-d8e0-4209-b389-6cddaeed2c36",
   "metadata": {},
   "source": [
    "|Column|Description|Variable|Example|\n",
    "|---|---|---|---|\n",
    "|0|subtype|Influenza subtype|H1N1\n",
    "|1|2_pb1|Genbank ID for second genomic segment|CY188807|\n",
    "|2|6_na|Genbank ID for sixth genomic segment|CY188803|\n",
    "|3|family|Taxon level|Orthomyxoviridae|\n",
    "|4|taxon_lineage_ids|10239;2559587...|\n",
    "|5|8_ns|Genbank ID for eighth genomic segment|CY188805|\n",
    "|6|5_np|Genbank ID for fifth genomic segment|CY188804|\n",
    "|7|taxon_lineage_names|Full taxonomy|Viruses;Riboviria;Orthornavirae;Negarnaviricota;Polyploviricotina;Insthoviricetes;Articulavirales;Orthomyxoviridae;Alphainfluenzavirus;Influenza A virus;H1N1 subtype;Influenza A virus (A/New York/WC-LVD-14-047/2014(H1N1))|\n",
    "|8|1_pb2|Genbank ID for first genomic segment|CY188808|\n",
    "|6|host_common_name|Host common name|Avian|\n",
    "|7|isolation_country|Isolation Country|USA|\n",
    "|8|7_mp|Genbank ID for seventh genomic segment|CY188802|\n",
    "|9|species|Influenza species|Influenza A virus|\n",
    "|10|host_name|Host Name|swine|\n",
    "|11|taxon_id|Taxon identification in IRD bank|1523128|\n",
    "|11|3_pa|Genbank ID for third genomic segment|CY188806|\n",
    "|12|genome_ids|Genomic localization in the IRD bank|1523128.10;1523128.8;1523128.9;1523128.7;1523128.4;1523128.3;1523128.6;1523128.5|\n",
    "|13|status|Strain classification in IRD|Complete\n",
    "|14|strain|Strain Identification|A/New York/WC-LVD-14-047/2014\n",
    "|15|genbank_accessions|All segment Genbank IDs|CY188801;CY188806;CY188807;CY188804;CY188802;CY188803;CY188805;CY188808|\n",
    "|14|geographic_group|Continent|North America|\n",
    "|15|host_group|Host group|Nonhuman Mammal|\n",
    "|16|collection_year|Year of collection|2014|\n",
    "|17|passage|Undiscriminated information|E2|\n",
    "|18|n_type|Neuraminidase type|1|\n",
    "|19|4_ha|Genbank ID for fourth genomic segment|CY188801|\n",
    "|20|segment_count|Genomic segment number|8|\n",
    "|21|h_type|Hemagglutinin type|1|\n",
    "|22|id|Undiscriminated information|0007de89-acf4-4ca4-aa89-ffeda1bb451d\n",
    "|23|_version_|Undiscriminated information|1,75113026210995E+018\n",
    "|24|date_inserted|Date of upload|2022-12-02T19:05:42.309Z\n",
    "|25|date_modified|Date of last modification|2022-12-02T19:05:42.309Z|"
   ]
  },
  {
   "cell_type": "markdown",
   "id": "ac507072-1594-44c6-870c-f951650ddd96",
   "metadata": {},
   "source": [
    "After observing the type of information eah column contained, as well as analysing if the column had too many missing data, the deleted all variables that did not carry any interesting information. In this table, we were only interested in the Strain Name as well as the Genbank ID information for all eight genome segments."
   ]
  },
  {
   "cell_type": "markdown",
   "id": "ee29e3f1-9abc-4ca2-93cd-f6500cee82bd",
   "metadata": {},
   "source": [
    "Therefore the dataset that was included in the pre-processing execution, later entitled _BVBRC_strain/BVBRC_strain_filtered.csv_ includes the columns below:"
   ]
  },
  {
   "cell_type": "markdown",
   "id": "f285aa9b-8f35-4bf2-ada8-a257cb912c2d",
   "metadata": {},
   "source": [
    "|Column|Description|Variable|Example|\n",
    "|---|---|---|---|\n",
    "|0|subtype|Influenza subtype|H1N1\n",
    "|1|2_pb1|Genbank ID for second genomic segment|CY188807|\n",
    "|2|6_na|Genbank ID for sixth genomic segment|CY188803|\n",
    "|3|8_ns|Genbank ID for eighth genomic segment|CY188805|\n",
    "|4|5_np|Genbank ID for fifth genomic segment|CY188804|\n",
    "|5|1_pb2|Genbank ID for first genomic segment|CY188808\n",
    "|6|host_common_name|Host common name|Avian\n",
    "|7|isolation_country|Isolation Country|USA\n",
    "|8|7_mp|Genbank ID for seventh genomic segment|CY188802|\n",
    "|9|host_name|Host Name|swine|\n",
    "|10|taxon_id|Taxon identification in IRD bank|1523128|\n",
    "|11|3_pa|Genbank ID for third genomic segment|CY188806|\n",
    "|12|strain|Strain Identification|A/New York/WC-LVD-14-047/2014\n",
    "|13|genbank_accessions|All segment Genbank IDs|CY188801;CY188806;CY188807;CY188804;CY188802;CY188803;CY188805;CY188808|\n",
    "|14|geographic_group|Continent|North America|\n",
    "|15|host_group|Host group|Nonhuman Mammal|\n",
    "|16|collection_year|Year of collection|2014|\n",
    "|17|n_type|Neuraminidase type|1|\n",
    "|18|4_ha|Genbank ID for fourth genomic segment|CY188801|\n",
    "|19|segment_count|Genomic segment number|8|\n",
    "|20|h_type|Hemagglutinin type|1|"
   ]
  },
  {
   "cell_type": "markdown",
   "id": "4152ecb2-cdda-4cc0-9826-3519b47a555d",
   "metadata": {},
   "source": [
    "> ### <font color=blue> Surveillance Table"
   ]
  },
  {
   "cell_type": "markdown",
   "id": "491a6da9-8069-4282-9bba-340dac9efdb7",
   "metadata": {},
   "source": [
    "This dataset includes all information on data collection (date and location in terms of coordinate, city, state/province and country), and host identification and condition (in terms of natural state, capture mode and health at the time of sampling). The raw data (_BVBRC_surveillance.csv_) has 96 columns, many of which are incomplete, incorrectly filled or completely empty. Therefore, we manually deleted all irrelevant columns, and ended up with a modified raw table described below, later entitled _BVBRC_surveillance_filtered.csv_BVBRC_surveillance_filtered."
   ]
  },
  {
   "cell_type": "markdown",
   "id": "5e96b44c-ae7d-4b08-b354-b70e4922fbf3",
   "metadata": {},
   "source": [
    "|Column|Description|Variable|Example|\n",
    "|---|---|---|---|\n",
    "|0|S|Sample number|STP_2020_1527\n",
    "|1|Sequence Accession|Genbank ID for all genomic segments|CY168429,CY168430,CY168427,CY168428,CY168423,CY168424,CY168425,CY168426|\n",
    "|2|Sample Material|Sample type|CY188803|\n",
    "|3|Collection Year|Year of collection|2016|\n",
    "|4|Collection Country|Collection country|USA|\n",
    "|5|Collection State Province|Collection region|Wisconsin\n",
    "|6|Collection City|City of collection|Cahuil\n",
    "|7|Collection Latitude|Collection Latitude|-34.47928\n",
    "|8|Collection Longitude|Collection Longitude|-72.02064|\n",
    "|9|Pathogen Test Type|Viral detection test type|Influenza A virus|\n",
    "|10|Pathogen Test Result|Viral detection test result|Positive|\n",
    "|11|Subtype|Influenza A subtype|H3N2|\n",
    "|12|Strain|Strain Identification|A/Green-winged Teal/Wisconsin/08OS2292/2008(H3N2)\n",
    "|13|Host Identifier|Host ID in IRD|UGAI14-2125|\n",
    "|14|Host Species|Specific taxon|Gallus gallus domesticus|\n",
    "|15|Host Common Name|Host Common Name|Domestic Chicken|\n",
    "|16|Host Group|Host Group|Avian|\n",
    "|17|Host Sex|Host Sex|Female|\n",
    "|18|Host Natural State|Host Natural State|Domestic|\n",
    "|19|Host Capture Status|Host capture strategy|Active surveillance (e.g. trap)|\n",
    "|20|Host Health|Host's condition at time of sampling|Healthy|\n",
    "|21|Symptoms|Notable symptom|Temperature:101.6|\n",
    "|22|Onset Hours|Time of initial symptoms|cough:4|\n",
    "|23|Sudden Onset|Undetermined information|-|\n",
    "|24|Diagnosis|Undetermined information|-|\n",
    "|25|Pre Visit Medication|Undetermined information|-|\n",
    "|26|Treatment|Undetermined information|-|\n",
    "|27|Initiation Of Treatment|Undetermined information|-|\n",
    "|28|Duration of Treatment|Undetermined information|-|\n",
    "|29|Treatment Dosage|Undetermined information|-|\n",
    "|30|Vaccination Type|Undetermined information|-|\n",
    "|31|Days Elapsed to Vaccination|Undetermined information|-|\n",
    "|32|Source of Vaccine Information|Undetermined information|-|\n",
    "|33|Vaccine Lot Number|Undetermined information|-|\n",
    "|34|Vaccine Manufacturer|Undetermined information|-|\n",
    "|35|Vaccine Dosage|Undetermined information|-|\n",
    "|36|Other Vaccinations|Undetermined information|-|\n",
    "|37|Additional Metadata|Undetermined information|-|\n",
    "|38|Comments|Undetermined information|-|\n",
    "|39-79|Undetermined information|-|"
   ]
  },
  {
   "cell_type": "markdown",
   "id": "708d1959-2d12-488b-81ed-dd83c5eaaaed",
   "metadata": {},
   "source": [
    "This was then imported into the **Surveillance data processing** script as _BVBRC_surveillance_filtered.csv_."
   ]
  },
  {
   "cell_type": "markdown",
   "id": "d8928d39-40c9-4f72-811c-5c70cf4ae942",
   "metadata": {},
   "source": [
    "> ### <font color=blue> Epitope Table"
   ]
  },
  {
   "cell_type": "markdown",
   "id": "36a34e07-032b-4255-a775-f5b45881d75b",
   "metadata": {},
   "source": [
    "This dataset includes information on all linear peptides registered in the BV-BRC (or previous IRD) Epitope platform. Apart from all other datasets used in this work, this table does not have a column with the _Strain Name_. In this case, it was necessary to use the Genbank ID in order to collect the RNA sequence, translate it into its aminoacidic sequence, and then scan each of the eight sequences for all strains for epitope presence. \n",
    "    \n",
    "The raw Epitope table was manually filtered so that it included only complete and unique (not present in other datasets) data information. Therefore, we edited the original table _BVBRC_epitope.csv_ so that it only included, for the 8,595 the following 13 parameters:   \n"
   ]
  },
  {
   "cell_type": "markdown",
   "id": "d9682d69-4c66-4e13-a9f6-fff74ed06422",
   "metadata": {},
   "source": [
    "|Column|Description|Variable|Example|\n",
    "|---|---|---|---|\n",
    "|0|Epitope ID|Epitope number in BV-BRC|10003|\n",
    "|1|Epitope Type|Epitope type|Linear peptide|\n",
    "|2|Epitope Sequence|Aminoacidic sequence|DRLFFKCI|\n",
    "|3|Organism|Species|Influenza A virus|\n",
    "|4|Protein Name|Protein name|Matrix protein 2|\n",
    "|5|Protein ID|Protein ID originally pulled from UniProtKB/Swiss-Prot database|P06821.1\n",
    "|6|Protein Accession|Protein accession code originally pulled from UniProtKB/Swiss-Prot databases|P06821\n",
    "|7|Start|Aminoacidic position in protein sequence|44.0\n",
    "|8|End|Aminoacidic position in protein sequence|51.0|\n",
    "|9|Total Assays|Total epitope identification assays|2|\n",
    "|10|Bcell Assays|Epitope identification assays with B cells|NaN|\n",
    "|11|Tcell Assays|Epitope identification assays with B cells|0/3|\n",
    "|12|Comments|Additional information|A/Short text|"
   ]
  },
  {
   "cell_type": "markdown",
   "id": "2aff9e23-e5fd-4029-a29b-ae7fb5e719a0",
   "metadata": {},
   "source": [
    "> ### <font color=blue> Substitutions Table"
   ]
  },
  {
   "cell_type": "markdown",
   "id": "a3202937-0b64-4b9e-92b9-e4b771c3d276",
   "metadata": {},
   "source": [
    "The fourth raw dataset inlcudes the original data registered in the database that correspond to genomic substitutions that have been identified by published works and described as substitutions that alter viral capacity to interact with their host (published in PubMed). For this dataset, we downloaded the substitutions that were divided into Avian, Human and Mammalian substitution tables, all of which have similar structure, with the first column containing the _Strain Name_, whereas the remaining columns describe **presence**, **abscence** or **unknown** information on substitution detection in the respective strain."
   ]
  },
  {
   "cell_type": "markdown",
   "id": "18bd62eb-a5f8-4cf8-b49e-57e8b07308e7",
   "metadata": {},
   "source": [
    "> Human Substitutions Table:"
   ]
  },
  {
   "cell_type": "markdown",
   "id": "af58e068-15a7-477f-a1ee-cdaebb7eabfa",
   "metadata": {},
   "source": [
    ">|Column|Description|Variable|Example|\n",
    "|---|---|---|---|\n",
    "|0|Strain Name|Viral strain name|A/England/257/2009|\n",
    "|1|Subtype|Influenza A subtype|H1N1|\n",
    "|2|Collection Date|Collection Date|05/09/2009|\n",
    "|3|State / Province|Collection region|Influenza A virus|\n",
    "|4|Country|Collection country|USA|\n",
    "|5|Host|Host group|Human\n",
    "|6-34| Phenotypic substitutions|-|"
   ]
  },
  {
   "cell_type": "markdown",
   "id": "129456ec-08c6-4ebe-aba5-8253b3fc4270",
   "metadata": {},
   "source": [
    "> Avian Substitutions Table:"
   ]
  },
  {
   "cell_type": "markdown",
   "id": "2596910f-a8a9-4dc8-b58b-d6cefff7fcb8",
   "metadata": {},
   "source": [
    "|Column|Description|Variable|Example|\n",
    "|---|---|---|---|\n",
    "|0|Strain Name|Viral strain name|A/England/257/2009|\n",
    "|1|Subtype|Influenza A subtype|H1N1|\n",
    "|2|Collection Date|Collection Date|05/09/2009|\n",
    "|3|State / Province|Collection region|Influenza A virus|\n",
    "|4|Country|Collection country|USA|\n",
    "|5|Host|Host group|Human\n",
    "|6-31| Phenotypic substitutions|-|\n"
   ]
  },
  {
   "cell_type": "markdown",
   "id": "57fe4e8d-aabd-44dc-a016-787cf323b1f7",
   "metadata": {},
   "source": [
    "> Mammalian (non-human) Substitutions Table:"
   ]
  },
  {
   "cell_type": "markdown",
   "id": "f4bf2082-32da-47a0-a5d4-8d6c63ecfe21",
   "metadata": {},
   "source": [
    "|Column|Description|Variable|Example|\n",
    "|---|---|---|---|\n",
    "|0|Strain Name|Viral strain name|A/England/257/2009|\n",
    "|1|Subtype|Influenza A subtype|H1N1|\n",
    "|2|Collection Date|Collection Date|05/09/2009|\n",
    "|3|State / Province|Collection region|Influenza A virus|\n",
    "|4|Country|Collection country|USA|\n",
    "|5|Host|Host group|Human\n",
    "|6-31| Phenotypic substitutions|-|\n"
   ]
  },
  {
   "cell_type": "markdown",
   "id": "45b1c12b-8d68-42f2-ae95-0a654d70ae5f",
   "metadata": {},
   "source": [
    "After concluding the pre-processing application here described, we imported the respective data to the subsequent processing steps:\n",
    "\n",
    "1. Strain Table was saved as _BVBRC_strain_filtered.csv_ and imported into _Strain data processing.ipynb_\n",
    "2. Surveillance Table was saved as _BVBRC_surveillance_filtered.csv_ and imported into _Surveillance data processing.ipynb_\n",
    "3. Epitope Table was saved as _BVBRC_epitope_filtered_ and imported into _BVBRC_epitope_filtered.ipynb_\n",
    "4. Substitutions Tables were saved as _Avian_pheno_subs.csv_, _human_pheno_subs.csv_, and _mammal_pheno_subs.csv_ and imported into _Substitutions data processing and merging.ipynb_."
   ]
  },
  {
   "cell_type": "code",
   "execution_count": 29,
   "id": "fc171ada-9695-4d3c-8241-eb9768adde3f",
   "metadata": {},
   "outputs": [
    {
     "name": "stdout",
     "output_type": "stream",
     "text": [
      "Requirement already satisfied: nbconvert[webpdf] in /usr/local/lib/python3.7/site-packages (7.6.0)\n",
      "Requirement already satisfied: beautifulsoup4 in /usr/local/lib/python3.7/site-packages (from nbconvert[webpdf]) (4.11.1)\n",
      "Requirement already satisfied: bleach!=5.0.0 in /usr/local/lib/python3.7/site-packages (from nbconvert[webpdf]) (5.0.1)\n",
      "Requirement already satisfied: defusedxml in /usr/local/lib/python3.7/site-packages (from nbconvert[webpdf]) (0.7.1)\n",
      "Requirement already satisfied: importlib-metadata>=3.6 in /usr/local/lib/python3.7/site-packages (from nbconvert[webpdf]) (4.12.0)\n",
      "Requirement already satisfied: jinja2>=3.0 in /usr/local/lib/python3.7/site-packages (from nbconvert[webpdf]) (3.1.2)\n",
      "Requirement already satisfied: jupyter-core>=4.7 in /usr/local/lib/python3.7/site-packages (from nbconvert[webpdf]) (4.11.1)\n",
      "Requirement already satisfied: jupyterlab-pygments in /usr/local/lib/python3.7/site-packages (from nbconvert[webpdf]) (0.2.2)\n",
      "Requirement already satisfied: markupsafe>=2.0 in /usr/local/lib/python3.7/site-packages (from nbconvert[webpdf]) (2.1.1)\n",
      "Requirement already satisfied: mistune<4,>=2.0.3 in /usr/local/lib/python3.7/site-packages (from nbconvert[webpdf]) (2.0.4)\n",
      "Requirement already satisfied: nbclient>=0.5.0 in /usr/local/lib/python3.7/site-packages (from nbconvert[webpdf]) (0.6.7)\n",
      "Requirement already satisfied: nbformat>=5.7 in /usr/local/lib/python3.7/site-packages (from nbconvert[webpdf]) (5.8.0)\n",
      "Requirement already satisfied: packaging in /usr/local/lib/python3.7/site-packages (from nbconvert[webpdf]) (21.3)\n",
      "Requirement already satisfied: pandocfilters>=1.4.1 in /usr/local/lib/python3.7/site-packages (from nbconvert[webpdf]) (1.5.0)\n",
      "Requirement already satisfied: pygments>=2.4.1 in /usr/local/lib/python3.7/site-packages (from nbconvert[webpdf]) (2.13.0)\n",
      "Requirement already satisfied: tinycss2 in /usr/local/lib/python3.7/site-packages (from nbconvert[webpdf]) (1.1.1)\n",
      "Requirement already satisfied: traitlets>=5.1 in /usr/local/lib/python3.7/site-packages (from nbconvert[webpdf]) (5.3.0)\n",
      "Requirement already satisfied: pyppeteer<1.1,>=1 in /usr/local/lib/python3.7/site-packages (from nbconvert[webpdf]) (1.0.2)\n",
      "Requirement already satisfied: six>=1.9.0 in /usr/local/lib/python3.7/site-packages (from bleach!=5.0.0->nbconvert[webpdf]) (1.15.0)\n",
      "Requirement already satisfied: webencodings in /usr/local/lib/python3.7/site-packages (from bleach!=5.0.0->nbconvert[webpdf]) (0.5.1)\n",
      "Requirement already satisfied: zipp>=0.5 in /usr/local/lib/python3.7/site-packages (from importlib-metadata>=3.6->nbconvert[webpdf]) (3.8.1)\n",
      "Requirement already satisfied: typing-extensions>=3.6.4 in /usr/local/lib/python3.7/site-packages (from importlib-metadata>=3.6->nbconvert[webpdf]) (4.7.1)\n",
      "Requirement already satisfied: jupyter-client>=6.1.5 in /usr/local/lib/python3.7/site-packages (from nbclient>=0.5.0->nbconvert[webpdf]) (7.3.5)\n",
      "Requirement already satisfied: nest-asyncio in /usr/local/lib/python3.7/site-packages (from nbclient>=0.5.0->nbconvert[webpdf]) (1.5.5)\n",
      "Requirement already satisfied: fastjsonschema in /usr/local/lib/python3.7/site-packages (from nbformat>=5.7->nbconvert[webpdf]) (2.16.1)\n",
      "Requirement already satisfied: jsonschema>=2.6 in /usr/local/lib/python3.7/site-packages (from nbformat>=5.7->nbconvert[webpdf]) (4.15.0)\n",
      "Requirement already satisfied: appdirs<2.0.0,>=1.4.3 in /usr/local/lib/python3.7/site-packages (from pyppeteer<1.1,>=1->nbconvert[webpdf]) (1.4.4)\n",
      "Requirement already satisfied: certifi>=2021 in /usr/local/lib/python3.7/site-packages (from pyppeteer<1.1,>=1->nbconvert[webpdf]) (2022.6.15)\n",
      "Requirement already satisfied: pyee<9.0.0,>=8.1.0 in /usr/local/lib/python3.7/site-packages (from pyppeteer<1.1,>=1->nbconvert[webpdf]) (8.2.2)\n",
      "Requirement already satisfied: tqdm<5.0.0,>=4.42.1 in /usr/local/lib/python3.7/site-packages (from pyppeteer<1.1,>=1->nbconvert[webpdf]) (4.65.0)\n",
      "Requirement already satisfied: urllib3<2.0.0,>=1.25.8 in /usr/local/lib/python3.7/site-packages (from pyppeteer<1.1,>=1->nbconvert[webpdf]) (1.26.12)\n",
      "Requirement already satisfied: websockets<11.0,>=10.0 in /usr/local/lib/python3.7/site-packages (from pyppeteer<1.1,>=1->nbconvert[webpdf]) (10.4)\n",
      "Requirement already satisfied: soupsieve>1.2 in /usr/local/lib/python3.7/site-packages (from beautifulsoup4->nbconvert[webpdf]) (2.3.2.post1)\n",
      "Requirement already satisfied: pyparsing!=3.0.5,>=2.0.2 in /usr/local/lib/python3.7/site-packages (from packaging->nbconvert[webpdf]) (3.0.9)\n",
      "Requirement already satisfied: attrs>=17.4.0 in /usr/local/lib/python3.7/site-packages (from jsonschema>=2.6->nbformat>=5.7->nbconvert[webpdf]) (22.1.0)\n",
      "Requirement already satisfied: importlib-resources>=1.4.0 in /usr/local/lib/python3.7/site-packages (from jsonschema>=2.6->nbformat>=5.7->nbconvert[webpdf]) (5.9.0)\n",
      "Requirement already satisfied: pkgutil-resolve-name>=1.3.10 in /usr/local/lib/python3.7/site-packages (from jsonschema>=2.6->nbformat>=5.7->nbconvert[webpdf]) (1.3.10)\n",
      "Requirement already satisfied: pyrsistent!=0.17.0,!=0.17.1,!=0.17.2,>=0.14.0 in /usr/local/lib/python3.7/site-packages (from jsonschema>=2.6->nbformat>=5.7->nbconvert[webpdf]) (0.18.1)\n",
      "Requirement already satisfied: entrypoints in /usr/local/lib/python3.7/site-packages (from jupyter-client>=6.1.5->nbclient>=0.5.0->nbconvert[webpdf]) (0.4)\n",
      "Requirement already satisfied: python-dateutil>=2.8.2 in /usr/local/lib/python3.7/site-packages (from jupyter-client>=6.1.5->nbclient>=0.5.0->nbconvert[webpdf]) (2.8.2)\n",
      "Requirement already satisfied: pyzmq>=23.0 in /usr/local/lib/python3.7/site-packages (from jupyter-client>=6.1.5->nbclient>=0.5.0->nbconvert[webpdf]) (23.2.1)\n",
      "Requirement already satisfied: tornado>=6.2 in /usr/local/lib/python3.7/site-packages (from jupyter-client>=6.1.5->nbclient>=0.5.0->nbconvert[webpdf]) (6.2)\n",
      "\u001b[33mWARNING: Running pip as the 'root' user can result in broken permissions and conflicting behaviour with the system package manager. It is recommended to use a virtual environment instead: https://pip.pypa.io/warnings/venv\u001b[0m\u001b[33m\n",
      "\u001b[0mNote: you may need to restart the kernel to use updated packages.\n"
     ]
    }
   ],
   "source": [
    "pip install nbconvert[webpdf]"
   ]
  },
  {
   "cell_type": "code",
   "execution_count": 30,
   "id": "22b6bacd-7a2e-4ec5-9d47-04547f14a8b3",
   "metadata": {},
   "outputs": [
    {
     "ename": "SyntaxError",
     "evalue": "invalid syntax (3689987796.py, line 1)",
     "output_type": "error",
     "traceback": [
      "\u001b[0;36m  File \u001b[0;32m\"/tmp/ipykernel_13/3689987796.py\"\u001b[0;36m, line \u001b[0;32m1\u001b[0m\n\u001b[0;31m    jupyter nbconvert --to webpdf --allow-chromium-download Data_descrption.ipynb\u001b[0m\n\u001b[0m                    ^\u001b[0m\n\u001b[0;31mSyntaxError\u001b[0m\u001b[0;31m:\u001b[0m invalid syntax\n"
     ]
    }
   ],
   "source": [
    "jupyter nbconvert --to webpdf --allow-chromium-download Data_descrption.ipynb"
   ]
  },
  {
   "cell_type": "code",
   "execution_count": null,
   "id": "0e4355dd-a7f0-4126-b783-ef89f046a2ca",
   "metadata": {},
   "outputs": [],
   "source": []
  }
 ],
 "metadata": {
  "kernelspec": {
   "display_name": "Python 3 (ipykernel)",
   "language": "python",
   "name": "python3"
  },
  "language_info": {
   "codemirror_mode": {
    "name": "ipython",
    "version": 3
   },
   "file_extension": ".py",
   "mimetype": "text/x-python",
   "name": "python",
   "nbconvert_exporter": "python",
   "pygments_lexer": "ipython3",
   "version": "3.7.9"
  }
 },
 "nbformat": 4,
 "nbformat_minor": 5
}
